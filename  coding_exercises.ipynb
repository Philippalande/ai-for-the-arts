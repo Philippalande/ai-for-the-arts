{
 "cells": [
  {
   "cell_type": "code",
   "execution_count": 21,
   "metadata": {},
   "outputs": [
    {
     "name": "stdout",
     "output_type": "stream",
     "text": [
      "Hello, World!\n"
     ]
    }
   ],
   "source": [
    "print(\"Hello, World!\")"
   ]
  },
  {
   "cell_type": "markdown",
   "metadata": {},
   "source": [
    "# Hello, World!\n",
    "The following code was created as my first attempt at programming in this course.It is meant to help me understand how to write and run code in GitHub Codespaces."
   ]
  },
  {
   "cell_type": "markdown",
   "metadata": {},
   "source": [
    "Printing\n",
    "Could you suggest a python\n",
    "code for ‘Hello, world!’ to demonstrate the concept of printing to a\n",
    "complete beginner in programming? Please explain the code step-by-step\n",
    "highlighting any key aspects.” "
   ]
  },
  {
   "cell_type": "code",
   "execution_count": 22,
   "metadata": {},
   "outputs": [
    {
     "name": "stdout",
     "output_type": "stream",
     "text": [
      "Hello, world! microsoft copilot testing\n"
     ]
    }
   ],
   "source": [
    "print(\"Hello, world! microsoft copilot testing\")"
   ]
  },
  {
   "cell_type": "markdown",
   "metadata": {},
   "source": [
    "# My first jupytor notebook \n",
    "This is my notebook for learning basic programming skills and concepts \n",
    "\n",
    "# Goals \n",
    "- Understand how to use markdown \n",
    "- Write Python code in a notebook \n",
    "- Documenting my learning process "
   ]
  },
  {
   "cell_type": "markdown",
   "metadata": {},
   "source": [
    "# Programming concepts: \n",
    "Variables\n",
    "\n",
    "Initial prompt - Could you suggest a modiication of the Python code for “Hello, world!” to demonstrate the concept of variables to a complete beginner in\n",
    "programming? Please explain the code step-by-step highlighting any key aspects. "
   ]
  },
  {
   "cell_type": "code",
   "execution_count": 23,
   "metadata": {},
   "outputs": [
    {
     "name": "stdout",
     "output_type": "stream",
     "text": [
      "I am 25 years old.\n",
      "The area of the rectangle is 15\n",
      "Hello, my name is John Doe\n",
      "6\n"
     ]
    }
   ],
   "source": [
    "message = \"Hello, world!\"\n",
    "\n",
    "age = 25\n",
    "print(\"I am\", age, \"years old.\")\n",
    "\n",
    "length = 5\n",
    "width = 3\n",
    "area = length * width\n",
    "print(\"The area of the rectangle is\", area)\n",
    "\n",
    "first_name = \"John\"\n",
    "last_name = \"Doe\"\n",
    "full_name = first_name + \" \" + last_name\n",
    "print(\"Hello, my name is\", full_name)\n",
    "\n",
    "total = 0\n",
    "for i in range(1, 4):\n",
    "    total+= i\n",
    "print(total)"
   ]
  },
  {
   "cell_type": "markdown",
   "metadata": {},
   "source": [
    "Functions \n",
    "\n",
    "Initial prompt:  Could you suggest a modification of the Python code for “Hello,\n",
    "world!” to demonstrate the concept of functions to a complete beginner in\n",
    "programming? Please explain the code step-by-step highlighting any key aspects\n"
   ]
  },
  {
   "cell_type": "code",
   "execution_count": 24,
   "metadata": {},
   "outputs": [
    {
     "name": "stdout",
     "output_type": "stream",
     "text": [
      "Hello, world!\n",
      "Hello, world!\n",
      "Hello, world!\n",
      "Sum: 15\n",
      "Difference: 5\n"
     ]
    }
   ],
   "source": [
    "def greet (): \n",
    "    print(\"Hello, world!\")\n",
    "\n",
    "greet()\n",
    "greet()\n",
    "greet()\n",
    "\n",
    "def calculate(a, b):\n",
    "    sum = a + b\n",
    "    difference = a - b\n",
    "    return sum, difference  # Return both values\n",
    "\n",
    "# Call the function and unpack the return values\n",
    "sum, difference = calculate(10, 5)\n",
    "print(\"Sum:\", sum)\n",
    "print(\"Difference:\", difference)\n",
    "\n"
   ]
  },
  {
   "cell_type": "markdown",
   "metadata": {},
   "source": [
    "Lists \n",
    "\n",
    " Initial Prompt: Could you suggest a modification of the Python code for “Hello, world!” to demonstrate the concept of lists to a complete beginner in programming? Please explain the code step- by-step highlighting any key aspects."
   ]
  },
  {
   "cell_type": "code",
   "execution_count": 27,
   "metadata": {},
   "outputs": [
    {
     "name": "stdout",
     "output_type": "stream",
     "text": [
      "Hello, Phillippa!\n",
      "Hello, Doug!\n",
      "Hello, Joseph!\n"
     ]
    }
   ],
   "source": [
    "names = [\"Phillippa\", \"Doug\", \"Joseph\"]\n",
    "\n",
    "for name in names: \n",
    "    print(\"Hello, \" + name + \"!\")"
   ]
  },
  {
   "cell_type": "markdown",
   "metadata": {},
   "source": [
    "Dictionaries \n",
    "\n",
    "Initial prompt: Could yousuggest a modification of the Python code for “Hello, world!” to demonstrate the concept of dictionaries to a complete beginner in programming? Please explain the code step-by-step highlighting any key aspects.\n"
   ]
  },
  {
   "cell_type": "code",
   "execution_count": 29,
   "metadata": {},
   "outputs": [
    {
     "name": "stdout",
     "output_type": "stream",
     "text": [
      "Hello, Philippa!\n",
      "Hello, Doug!\n",
      "Hello, Jospeh!\n"
     ]
    }
   ],
   "source": [
    "greetings = {\n",
    "\"Philippa\": \"Hello, Philippa!\", \n",
    "\"Doug\": \"Hello, Doug!\", \n",
    "\"Jospeh\": \"Hello, Jospeh!\"\n",
    "} \n",
    "\n",
    "for name in greetings: \n",
    "    print(greetings[name])\n"
   ]
  },
  {
   "cell_type": "markdown",
   "metadata": {},
   "source": [
    "Importing libraries that extend fucntionality \n",
    "\n",
    "\n",
    "Initial prompt - Could you suggest a modification of the Python code for “Hello,\n",
    "world!” to demonstrate the concept of importing libraries to a complete\n",
    "beginner in programming? Please explain the code step-by-step highlighting any\n",
    "key aspects."
   ]
  },
  {
   "cell_type": "code",
   "execution_count": 31,
   "metadata": {},
   "outputs": [
    {
     "name": "stdout",
     "output_type": "stream",
     "text": [
      "Hello, world!\n",
      "Current date and time: 2025-02-20 16:27:37.663850\n"
     ]
    }
   ],
   "source": [
    "\n",
    "import datetime\n",
    "current_datetime = datetime.datetime.now()\n",
    "\n",
    "print(\"Hello, world!\")\n",
    "print(\"Current date and time:\", current_datetime)"
   ]
  },
  {
   "cell_type": "markdown",
   "metadata": {},
   "source": [
    "Conditional if, else, elif statments \n",
    "\n",
    "Initial prompt: Could you suggest a modification of the Python code for “Hello, world!” to\n",
    "demonstrate the concepts of if, elif, and else statements to a complete\n",
    "beginner in programming? Please explain the code step-by-step highlighting any\n",
    "key aspects."
   ]
  },
  {
   "cell_type": "code",
   "execution_count": 1,
   "metadata": {},
   "outputs": [
    {
     "name": "stdout",
     "output_type": "stream",
     "text": [
      "Good evening, world!\n"
     ]
    }
   ],
   "source": [
    "# Step 1: Import the datetime library\n",
    "import datetime\n",
    "\n",
    "# Step 2: Get the current hour\n",
    "current_hour = datetime.datetime.now().hour\n",
    "\n",
    "# Step 3: Use if, elif, and else statements to print different greetings\n",
    "if current_hour < 12:\n",
    "    print(\"Good morning, world!\")\n",
    "elif current_hour < 18:\n",
    "    print(\"Good afternoon, world!\")\n",
    "else:\n",
    "    print(\"Good evening, world!\")"
   ]
  }
 ],
 "metadata": {
  "kernelspec": {
   "display_name": "Python 3",
   "language": "python",
   "name": "python3"
  },
  "language_info": {
   "codemirror_mode": {
    "name": "ipython",
    "version": 3
   },
   "file_extension": ".py",
   "mimetype": "text/x-python",
   "name": "python",
   "nbconvert_exporter": "python",
   "pygments_lexer": "ipython3",
   "version": "3.12.1"
  }
 },
 "nbformat": 4,
 "nbformat_minor": 2
}

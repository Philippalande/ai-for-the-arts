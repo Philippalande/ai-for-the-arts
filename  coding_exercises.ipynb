{
 "cells": [
  {
   "cell_type": "code",
   "execution_count": 12,
   "metadata": {},
   "outputs": [
    {
     "name": "stdout",
     "output_type": "stream",
     "text": [
      "Hello, World!\n"
     ]
    }
   ],
   "source": [
    "print(\"Hello, World!\")"
   ]
  },
  {
   "cell_type": "markdown",
   "metadata": {},
   "source": [
    "# Hello, World!\n",
    "The following code was created as my first attempt at programming in this course.It is meant to help me understand how to write and run code in GitHub Codespaces."
   ]
  },
  {
   "cell_type": "markdown",
   "metadata": {},
   "source": [
    "Printing\n",
    "Could you suggest a python\n",
    "code for ‘Hello, world!’ to demonstrate the concept of printing to a\n",
    "complete beginner in programming? Please explain the code step-by-step\n",
    "highlighting any key aspects.” "
   ]
  },
  {
   "cell_type": "code",
   "execution_count": 13,
   "metadata": {},
   "outputs": [
    {
     "name": "stdout",
     "output_type": "stream",
     "text": [
      "Hello, world! microsoft copilot testing\n"
     ]
    }
   ],
   "source": [
    "print(\"Hello, world! microsoft copilot testing\")"
   ]
  },
  {
   "cell_type": "markdown",
   "metadata": {},
   "source": [
    "# My first jupytor notebook \n",
    "This is my notebook for learning basic programming skills and concepts \n",
    "\n",
    "# Goals \n",
    "- Understand how to use markdown \n",
    "- Write Python code in a notebook \n",
    "- Documenting my learning process "
   ]
  },
  {
   "cell_type": "markdown",
   "metadata": {},
   "source": [
    "Programming concepts: Variables\n",
    "\n",
    "Initial prompt - Could you suggest a modiication of the Python code for “Hello, world!” to demonstrate the concept of variables to a complete beginner in\n",
    "programming? Please explain the code step-by-step highlighting any key aspects. "
   ]
  },
  {
   "cell_type": "code",
   "execution_count": 14,
   "metadata": {},
   "outputs": [
    {
     "name": "stdout",
     "output_type": "stream",
     "text": [
      "I am 25 years old.\n",
      "The area of the rectangle is 15\n",
      "Hello, my name is John Doe\n",
      "6\n"
     ]
    }
   ],
   "source": [
    "message = \"Hello, world!\"\n",
    "\n",
    "age = 25\n",
    "print(\"I am\", age, \"years old.\")\n",
    "\n",
    "length = 5\n",
    "width = 3\n",
    "area = length * width\n",
    "print(\"The area of the rectangle is\", area)\n",
    "\n",
    "first_name = \"John\"\n",
    "last_name = \"Doe\"\n",
    "full_name = first_name + \" \" + last_name\n",
    "print(\"Hello, my name is\", full_name)\n",
    "\n",
    "total = 0\n",
    "for i in range(1, 4):\n",
    "    total+= i\n",
    "print(total)"
   ]
  },
  {
   "cell_type": "markdown",
   "metadata": {},
   "source": [
    "Functions \n",
    "Initial prompt:  Could you suggest a modification of the Python code for “Hello,\n",
    "world!” to demonstrate the concept of functions to a complete beginner in\n",
    "programming? Please explain the code step-by-step highlighting any key aspects\n"
   ]
  },
  {
   "cell_type": "code",
   "execution_count": 15,
   "metadata": {},
   "outputs": [
    {
     "name": "stdout",
     "output_type": "stream",
     "text": [
      "Hello, world!\n",
      "Hello, world!\n",
      "Hello, world!\n"
     ]
    }
   ],
   "source": [
    "def greet (): \n",
    "    print(\"Hello, world!\")\n",
    "\n",
    "greet()\n",
    "greet()\n",
    "greet()"
   ]
  }
 ],
 "metadata": {
  "kernelspec": {
   "display_name": "Python 3",
   "language": "python",
   "name": "python3"
  },
  "language_info": {
   "codemirror_mode": {
    "name": "ipython",
    "version": 3
   },
   "file_extension": ".py",
   "mimetype": "text/x-python",
   "name": "python",
   "nbconvert_exporter": "python",
   "pygments_lexer": "ipython3",
   "version": "3.12.1"
  }
 },
 "nbformat": 4,
 "nbformat_minor": 2
}
